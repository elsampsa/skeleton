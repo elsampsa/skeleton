{
 "cells": [
  {
   "cell_type": "code",
   "execution_count": 1,
   "id": "511408e5",
   "metadata": {},
   "outputs": [
    {
     "data": {
      "text/html": [
       "<style>.container { width:100% !important; }</style>"
      ],
      "text/plain": [
       "<IPython.core.display.HTML object>"
      ]
     },
     "metadata": {},
     "output_type": "display_data"
    }
   ],
   "source": [
    "# use these magic spells to update your classes methods on-the-fly as you edit them:\n",
    "%reload_ext autoreload\n",
    "%autoreload 2\n",
    "from pprint import pprint\n",
    "from IPython.core.display import display, HTML, Markdown\n",
    "import ipywidgets as widgets\n",
    "# %run includeme.ipynb # include a notebook from this same directory\n",
    "display(HTML(\"<style>.container { width:100% !important; }</style>\"))"
   ]
  },
  {
   "cell_type": "code",
   "execution_count": 2,
   "id": "4d866d9b",
   "metadata": {},
   "outputs": [],
   "source": [
    "from my_test_package import Cool2HelloWorld"
   ]
  },
  {
   "cell_type": "code",
   "execution_count": 3,
   "id": "48a84654",
   "metadata": {},
   "outputs": [],
   "source": [
    "cl = Cool2HelloWorld(person=\"me\")"
   ]
  },
  {
   "cell_type": "code",
   "execution_count": 4,
   "id": "bf2aeac0",
   "metadata": {},
   "outputs": [
    {
     "name": "stdout",
     "output_type": "stream",
     "text": [
      "**************\n",
      "Hello from me\n",
      "**************\n",
      "\n"
     ]
    }
   ],
   "source": [
    "print(cl)"
   ]
  },
  {
   "cell_type": "code",
   "execution_count": 5,
   "id": "db12c430",
   "metadata": {},
   "outputs": [
    {
     "name": "stdout",
     "output_type": "stream",
     "text": [
      "hello from someMethod\n"
     ]
    }
   ],
   "source": [
    "cl.someMethod()"
   ]
  },
  {
   "cell_type": "code",
   "execution_count": 6,
   "id": "c83a5ae2",
   "metadata": {},
   "outputs": [],
   "source": [
    "# edit the code in your_test_package/your_test_package/greeters/cool/cool2.py for someMethod to print another message and then run that line above again\n",
    "# you'll notice that the code has been refreshed automagically"
   ]
  },
  {
   "cell_type": "code",
   "execution_count": null,
   "id": "440dff60",
   "metadata": {},
   "outputs": [],
   "source": []
  }
 ],
 "metadata": {
  "kernelspec": {
   "display_name": "Python 3",
   "language": "python",
   "name": "python3"
  },
  "language_info": {
   "codemirror_mode": {
    "name": "ipython",
    "version": 3
   },
   "file_extension": ".py",
   "mimetype": "text/x-python",
   "name": "python",
   "nbconvert_exporter": "python",
   "pygments_lexer": "ipython3",
   "version": "3.8.10"
  }
 },
 "nbformat": 4,
 "nbformat_minor": 5
}
