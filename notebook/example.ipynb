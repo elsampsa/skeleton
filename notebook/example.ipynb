{
 "cells": [
  {
   "cell_type": "code",
   "execution_count": 1,
   "id": "511408e5",
   "metadata": {},
   "outputs": [
    {
     "data": {
      "text/html": [
       "<style>.container { width:100% !important; }</style>"
      ],
      "text/plain": [
       "<IPython.core.display.HTML object>"
      ]
     },
     "metadata": {},
     "output_type": "display_data"
    }
   ],
   "source": [
    "# use these magic spells to update your classes methods on-the-fly as you edit them:\n",
    "%reload_ext autoreload\n",
    "%autoreload 2\n",
    "from pprint import pprint\n",
    "from IPython.core.display import display, HTML, Markdown\n",
    "import ipywidgets as widgets\n",
    "# %run includeme.ipynb # include a notebook from this same directory\n",
    "display(HTML(\"<style>.container { width:100% !important; }</style>\"))"
   ]
  },
  {
   "cell_type": "code",
   "execution_count": 2,
   "id": "4d866d9b",
   "metadata": {},
   "outputs": [
    {
     "name": "stdout",
     "output_type": "stream",
     "text": [
      "NOTE: cpp extension loaded from /home/sampsa/python3_packages/skeleton/skeleton/skeleton_cpp/skeleton_cpp/skeleton_cpp_module.py and from /home/sampsa/python3_packages/skeleton/skeleton/_skeleton_cpp_module.cpython-38-x86_64-linux-gnu.so FEEL FREE TO REMOVE THIS MESSAGE\n",
      "\n"
     ]
    }
   ],
   "source": [
    "import logging\n",
    "import numpy as np\n",
    "from skeleton import FancyHelloWorld\n",
    "from skeleton.tools import quickLog"
   ]
  },
  {
   "cell_type": "code",
   "execution_count": 3,
   "id": "1a3c402d",
   "metadata": {},
   "outputs": [
    {
     "data": {
      "text/plain": [
       "<Logger FancyHelloWorld (DEBUG)>"
      ]
     },
     "execution_count": 3,
     "metadata": {},
     "output_type": "execute_result"
    }
   ],
   "source": [
    "quickLog(\"FancyHelloWorld\", logging.DEBUG)"
   ]
  },
  {
   "cell_type": "code",
   "execution_count": 4,
   "id": "48a84654",
   "metadata": {},
   "outputs": [
    {
     "name": "stderr",
     "output_type": "stream",
     "text": [
      "FancyHelloWorld - INFO - info level msg from __init__\n",
      "FancyHelloWorld - DEBUG - debug level msg from __init__\n"
     ]
    }
   ],
   "source": [
    "greeter = FancyHelloWorld(person=\"me\")"
   ]
  },
  {
   "cell_type": "code",
   "execution_count": 5,
   "id": "bf2aeac0",
   "metadata": {},
   "outputs": [
    {
     "name": "stdout",
     "output_type": "stream",
     "text": [
      "**************\n",
      "Hello from me\n",
      "**************\n",
      "\n"
     ]
    }
   ],
   "source": [
    "print(greeter)"
   ]
  },
  {
   "cell_type": "code",
   "execution_count": 6,
   "id": "c83a5ae2",
   "metadata": {},
   "outputs": [],
   "source": [
    "# edit the code in ../skeleton/greeters/fancy.py for someMethod to print another message and then run that line above again\n",
    "# you'll notice that the code has been refreshed automagically"
   ]
  },
  {
   "cell_type": "code",
   "execution_count": 7,
   "id": "440dff60",
   "metadata": {},
   "outputs": [],
   "source": [
    "# let's test the cpp module"
   ]
  },
  {
   "cell_type": "code",
   "execution_count": 8,
   "id": "a7dcd44b",
   "metadata": {},
   "outputs": [],
   "source": [
    "from skeleton import cpp_module"
   ]
  },
  {
   "cell_type": "code",
   "execution_count": 9,
   "id": "1f8af317",
   "metadata": {},
   "outputs": [],
   "source": [
    "t = cpp_module.Test()"
   ]
  },
  {
   "cell_type": "code",
   "execution_count": 10,
   "id": "7360514c",
   "metadata": {},
   "outputs": [],
   "source": [
    "t.callme() # this prints \"hello from cpp\" .. but to the terminal! (since the output is not handled by python, but by c++)"
   ]
  },
  {
   "cell_type": "code",
   "execution_count": 11,
   "id": "1a676064",
   "metadata": {},
   "outputs": [],
   "source": [
    "tester = cpp_module.TestNumpy()"
   ]
  },
  {
   "cell_type": "code",
   "execution_count": 12,
   "id": "70cb5611",
   "metadata": {},
   "outputs": [],
   "source": [
    "a=np.ones((10,10))"
   ]
  },
  {
   "cell_type": "code",
   "execution_count": 13,
   "id": "4cdabb6a",
   "metadata": {},
   "outputs": [
    {
     "data": {
      "text/plain": [
       "array([[1., 1., 1., 1., 1., 1., 1., 1., 1., 1.],\n",
       "       [1., 1., 1., 1., 1., 1., 1., 1., 1., 1.],\n",
       "       [1., 1., 1., 1., 1., 1., 1., 1., 1., 1.],\n",
       "       [1., 1., 1., 1., 1., 1., 1., 1., 1., 1.],\n",
       "       [1., 1., 1., 1., 1., 1., 1., 1., 1., 1.],\n",
       "       [1., 1., 1., 1., 1., 1., 1., 1., 1., 1.],\n",
       "       [1., 1., 1., 1., 1., 1., 1., 1., 1., 1.],\n",
       "       [1., 1., 1., 1., 1., 1., 1., 1., 1., 1.],\n",
       "       [1., 1., 1., 1., 1., 1., 1., 1., 1., 1.],\n",
       "       [1., 1., 1., 1., 1., 1., 1., 1., 1., 1.]])"
      ]
     },
     "execution_count": 13,
     "metadata": {},
     "output_type": "execute_result"
    }
   ],
   "source": [
    "a"
   ]
  },
  {
   "cell_type": "code",
   "execution_count": 14,
   "id": "2dc8d821",
   "metadata": {},
   "outputs": [],
   "source": [
    "tester.setZero(a)"
   ]
  },
  {
   "cell_type": "code",
   "execution_count": 15,
   "id": "7c192630",
   "metadata": {},
   "outputs": [
    {
     "data": {
      "text/plain": [
       "array([[0., 0., 0., 0., 0., 0., 0., 0., 0., 0.],\n",
       "       [0., 0., 0., 0., 0., 0., 0., 0., 0., 0.],\n",
       "       [0., 0., 0., 0., 0., 0., 0., 0., 0., 0.],\n",
       "       [0., 0., 0., 0., 0., 0., 0., 0., 0., 0.],\n",
       "       [0., 0., 0., 0., 0., 0., 0., 0., 0., 0.],\n",
       "       [0., 0., 0., 0., 0., 0., 0., 0., 0., 0.],\n",
       "       [0., 0., 0., 0., 0., 0., 0., 0., 0., 0.],\n",
       "       [0., 0., 0., 0., 0., 0., 0., 0., 0., 0.],\n",
       "       [0., 0., 0., 0., 0., 0., 0., 0., 0., 0.],\n",
       "       [0., 0., 0., 0., 0., 0., 0., 0., 0., 0.]])"
      ]
     },
     "execution_count": 15,
     "metadata": {},
     "output_type": "execute_result"
    }
   ],
   "source": [
    "a"
   ]
  },
  {
   "cell_type": "code",
   "execution_count": 16,
   "id": "1fc6c52c",
   "metadata": {},
   "outputs": [],
   "source": [
    "a=np.ones((10,10))"
   ]
  },
  {
   "cell_type": "code",
   "execution_count": 17,
   "id": "7961ad3a",
   "metadata": {},
   "outputs": [],
   "source": [
    "line=tester.doodle2D(a)"
   ]
  },
  {
   "cell_type": "code",
   "execution_count": 18,
   "id": "675b29ee",
   "metadata": {},
   "outputs": [
    {
     "data": {
      "text/plain": [
       "array([10., 10., 10., 10., 10., 10., 10., 10., 10., 10.])"
      ]
     },
     "execution_count": 18,
     "metadata": {},
     "output_type": "execute_result"
    }
   ],
   "source": [
    "line"
   ]
  },
  {
   "cell_type": "code",
   "execution_count": null,
   "id": "7dbc1462",
   "metadata": {},
   "outputs": [],
   "source": []
  }
 ],
 "metadata": {
  "kernelspec": {
   "display_name": "Python 3",
   "language": "python",
   "name": "python3"
  },
  "language_info": {
   "codemirror_mode": {
    "name": "ipython",
    "version": 3
   },
   "file_extension": ".py",
   "mimetype": "text/x-python",
   "name": "python",
   "nbconvert_exporter": "python",
   "pygments_lexer": "ipython3",
   "version": "3.8.10"
  }
 },
 "nbformat": 4,
 "nbformat_minor": 5
}
